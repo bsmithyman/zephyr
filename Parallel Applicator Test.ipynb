{
 "metadata": {
  "name": "",
  "signature": "sha256:73557640ea2d2a8338aab1bca5458db9f9e4da9e5a3383127a09da856785016f"
 },
 "nbformat": 3,
 "nbformat_minor": 0,
 "worksheets": [
  {
   "cells": [
    {
     "cell_type": "code",
     "collapsed": false,
     "input": [
      "from IPython.parallel import Client, require"
     ],
     "language": "python",
     "metadata": {},
     "outputs": [],
     "prompt_number": 1
    },
    {
     "cell_type": "code",
     "collapsed": false,
     "input": [
      "pclient = Client()\n",
      "dview = pclient[:]\n",
      "lview = pclient.load_balanced_view()"
     ],
     "language": "python",
     "metadata": {},
     "outputs": [],
     "prompt_number": 2
    },
    {
     "cell_type": "code",
     "collapsed": false,
     "input": [
      "class doeverywhere(object):\n",
      "    '''\n",
      "    Decorator that wraps functions and makes them parallel\n",
      "    on a particular IPython parallel direct view.\n",
      "    '''\n",
      "    \n",
      "    def __init__(self, view):\n",
      "        '''\n",
      "        Takes in a parallel view and caches it internally.\n",
      "        '''\n",
      "        self.view = view\n",
      "    \n",
      "    def __call__(self, f):\n",
      "        '''\n",
      "        Takes in a function and wraps it with another (local) function,\n",
      "        which applies the function on all workers using the view's\n",
      "        apply_sync(...) method.\n",
      "        '''\n",
      "        \n",
      "        def wrapper(*args, **kwargs):\n",
      "            return self.view.apply_sync(f, *args, **kwargs)\n",
      "        \n",
      "        return wrapper"
     ],
     "language": "python",
     "metadata": {},
     "outputs": [],
     "prompt_number": 3
    },
    {
     "cell_type": "code",
     "collapsed": false,
     "input": [
      "def unlist(theinput):\n",
      "    return theinput[0]"
     ],
     "language": "python",
     "metadata": {},
     "outputs": [],
     "prompt_number": 4
    },
    {
     "cell_type": "code",
     "collapsed": false,
     "input": [
      "@doeverywhere(dview)\n",
      "@require(unlist)\n",
      "def getID(message):\n",
      "    return message%unlist(a)"
     ],
     "language": "python",
     "metadata": {},
     "outputs": [],
     "prompt_number": 5
    },
    {
     "cell_type": "code",
     "collapsed": false,
     "input": [
      "dview.scatter('a', pclient.ids)\n",
      "getID('Worker %d ')"
     ],
     "language": "python",
     "metadata": {},
     "outputs": [
      {
       "metadata": {},
       "output_type": "pyout",
       "prompt_number": 6,
       "text": [
        "['Worker 0 ', 'Worker 1 ', 'Worker 2 ', 'Worker 3 ']"
       ]
      }
     ],
     "prompt_number": 6
    },
    {
     "cell_type": "code",
     "collapsed": false,
     "input": [],
     "language": "python",
     "metadata": {},
     "outputs": [],
     "prompt_number": 6
    }
   ],
   "metadata": {}
  }
 ]
}