{
 "metadata": {
  "name": "",
  "signature": "sha256:369b8565aec0358271a5ded4723b0e1575f86df22aa22783a93dec5c0b38294a"
 },
 "nbformat": 3,
 "nbformat_minor": 0,
 "worksheets": [
  {
   "cells": [
    {
     "cell_type": "heading",
     "level": 1,
     "metadata": {},
     "source": [
      "DAG Job Accounting"
     ]
    },
    {
     "cell_type": "markdown",
     "metadata": {},
     "source": [
      "Brendan Smithyman | January 2015"
     ]
    },
    {
     "cell_type": "code",
     "collapsed": false,
     "input": [
      "import numpy as np\n",
      "import networkx\n",
      "from zephyr.Problem import SeisFDFDProblem"
     ],
     "language": "python",
     "metadata": {},
     "outputs": [],
     "prompt_number": 1
    },
    {
     "cell_type": "heading",
     "level": 2,
     "metadata": {},
     "source": [
      "Plotting configuration"
     ]
    },
    {
     "cell_type": "code",
     "collapsed": false,
     "input": [
      "import matplotlib.pyplot as plt\n",
      "import matplotlib.cm as cm\n",
      "import matplotlib\n",
      "%matplotlib inline"
     ],
     "language": "python",
     "metadata": {},
     "outputs": [],
     "prompt_number": 2
    },
    {
     "cell_type": "heading",
     "level": 2,
     "metadata": {},
     "source": [
      "System / modelling configuration"
     ]
    },
    {
     "cell_type": "code",
     "collapsed": false,
     "input": [
      "cellSize    = 1             # m\n",
      "freqs       = [2e2]         # Hz\n",
      "density     = 2700          # units of density\n",
      "Q           = np.inf        # can be inf\n",
      "nx          = 164           # count\n",
      "nz          = 264           # count\n",
      "freeSurf    = [False, False, False, False] # t r b l\n",
      "dims        = (nx,nz)       # tuple\n",
      "nPML        = 32\n",
      "rho         = np.fliplr(np.ones(dims) * density)\n",
      "nfreq       = len(freqs)    # number of frequencies\n",
      "nky         = 4            # number of y-directional plane-wave components\n",
      "nsp         = nfreq * nky   # total number of 2D subproblems\n",
      "\n",
      "velocity    = 2500          # m/s\n",
      "vanom       = 500           # m/s\n",
      "cPert       = np.zeros(dims)\n",
      "cPert[(nx/2)-20:(nx/2)+20,(nz/2)-20:(nz/2)+20] = vanom\n",
      "c           = np.fliplr(np.ones(dims) * velocity)\n",
      "cFlat       = c\n",
      "c          += np.fliplr(cPert)\n",
      "cTrue       = c\n",
      "\n",
      "srcs        = np.array([np.ones(101)*32, np.zeros(101), np.linspace(32, 232, 101)]).T\n",
      "recs        = np.array([np.ones(101)*132, np.zeros(101), np.linspace(32, 232, 101)]).T\n",
      "nsrc        = len(srcs)\n",
      "nrec        = len(recs)\n",
      "recmode     = 'fixed'\n",
      "\n",
      "geom        = {\n",
      "    'src':  srcs,\n",
      "    'rec':  recs,\n",
      "    'mode': 'fixed',\n",
      "}\n",
      "\n",
      "cache       = False\n",
      "cacheDir    = '.'\n",
      "\n",
      "parFac = 2\n",
      "chunksPerWorker = 0.5       # NB: parFac * chunksPerWorker = number of source array subsets\n",
      "ensembleClear = False\n",
      "\n",
      "profile = 'default'\n",
      "\n",
      "# Base configuration for all subproblems\n",
      "systemConfig = {\n",
      "    'dx':   cellSize,       # m\n",
      "    'dz':   cellSize,       # m\n",
      "    'c':        c.T,        # m/s\n",
      "    'rho':      rho.T,      # density\n",
      "    'Q':        Q,          # can be inf\n",
      "    'nx':       nx,         # count\n",
      "    'nz':       nz,         # count\n",
      "    'freeSurf': freeSurf,   # t r b l\n",
      "    'nPML':     nPML,\n",
      "    'geom':     geom,\n",
      "    'cache':    cache,\n",
      "    'cacheDir': cacheDir,\n",
      "    'freqs':    freqs,\n",
      "    'nky':      nky,\n",
      "    'parFac':   parFac,\n",
      "    'chunksPerWorker':  chunksPerWorker,\n",
      "    'profile':  profile,\n",
      "    'ensembleClear':    ensembleClear,\n",
      "}"
     ],
     "language": "python",
     "metadata": {},
     "outputs": [],
     "prompt_number": 3
    },
    {
     "cell_type": "code",
     "collapsed": false,
     "input": [
      "sp = SeisFDFDProblem(systemConfig)"
     ],
     "language": "python",
     "metadata": {},
     "outputs": [],
     "prompt_number": 4
    },
    {
     "cell_type": "code",
     "collapsed": false,
     "input": [
      "G = sp.forwardAccumulate()"
     ],
     "language": "python",
     "metadata": {},
     "outputs": [],
     "prompt_number": 5
    },
    {
     "cell_type": "code",
     "collapsed": false,
     "input": [
      "G.neighbors('Beginning')"
     ],
     "language": "python",
     "metadata": {},
     "outputs": [
      {
       "metadata": {},
       "output_type": "pyout",
       "prompt_number": 6,
       "text": [
        "['Head: 0, 2', 'Head: 0, 3', 'Head: 0, 0', 'Head: 0, 1']"
       ]
      }
     ],
     "prompt_number": 6
    },
    {
     "cell_type": "code",
     "collapsed": false,
     "input": [
      "G.predecessors('End')"
     ],
     "language": "python",
     "metadata": {},
     "outputs": [
      {
       "metadata": {},
       "output_type": "pyout",
       "prompt_number": 7,
       "text": [
        "['Tail: 0, 2', 'Tail: 0, 3', 'Tail: 0, 0', 'Tail: 0, 1']"
       ]
      }
     ],
     "prompt_number": 7
    },
    {
     "cell_type": "code",
     "collapsed": false,
     "input": [
      "def colourCodeNodes(graph):\n",
      "    colours = []\n",
      "    \n",
      "    def mapColours(value):\n",
      "        if value < 0:\n",
      "            return (0, 0, 0)\n",
      "        elif value == 0:\n",
      "            return (0, 0, 1)\n",
      "        elif value == 1:\n",
      "            return (0, 1, 0)\n",
      "        elif value == 2:\n",
      "            return (1, 0, 0)\n",
      "    \n",
      "    for node in graph.nodes():\n",
      "        status = -1\n",
      "        nodeprops = G.node[node]\n",
      "        if 'job' in nodeprops:\n",
      "            job = nodeprops['job']\n",
      "            status = 1. * job.ready()\n",
      "            if status > 0:\n",
      "                status += 1. * (not job.successful())\n",
      "\n",
      "        colours.append(mapColours(status))\n",
      "    \n",
      "    return colours"
     ],
     "language": "python",
     "metadata": {},
     "outputs": [],
     "prompt_number": 8
    },
    {
     "cell_type": "code",
     "collapsed": false,
     "input": [
      "im = networkx.draw_graphviz(G, with_labels=True, node_color=colourCodeNodes(G))"
     ],
     "language": "python",
     "metadata": {},
     "outputs": [
      {
       "metadata": {},
       "output_type": "display_data",
       "png": "[encoded data removed]",
       "text": [
        "<matplotlib.figure.Figure at 0x10d20bcd0>"
       ]
      }
     ],
     "prompt_number": 12
    },
    {
     "cell_type": "code",
     "collapsed": false,
     "input": [
      "j = G.node['Wrap: 0, 3, 0']['job']"
     ],
     "language": "python",
     "metadata": {},
     "outputs": [],
     "prompt_number": 10
    },
    {
     "cell_type": "code",
     "collapsed": false,
     "input": [
      "j.get()"
     ],
     "language": "python",
     "metadata": {},
     "outputs": [],
     "prompt_number": 11
    },
    {
     "cell_type": "code",
     "collapsed": false,
     "input": [],
     "language": "python",
     "metadata": {},
     "outputs": [],
     "prompt_number": 11
    }
   ],
   "metadata": {}
  }
 ]
}