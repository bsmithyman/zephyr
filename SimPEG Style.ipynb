{
 "metadata": {
  "name": "",
  "signature": "sha256:699fbdc6d56f85084c221d97897139025ebeaabdac729ae420937fdfc0833071"
 },
 "nbformat": 3,
 "nbformat_minor": 0,
 "worksheets": [
  {
   "cells": [
    {
     "cell_type": "heading",
     "level": 1,
     "metadata": {},
     "source": [
      "SimPEG Style"
     ]
    },
    {
     "cell_type": "markdown",
     "metadata": {},
     "source": [
      "Brendan Smithyman | January 2015"
     ]
    },
    {
     "cell_type": "code",
     "collapsed": false,
     "input": [
      "import numpy as np\n",
      "import networkx\n",
      "from zephyr.Problem import SeisFDFDProblem"
     ],
     "language": "python",
     "metadata": {},
     "outputs": [],
     "prompt_number": 1
    },
    {
     "cell_type": "heading",
     "level": 2,
     "metadata": {},
     "source": [
      "Plotting configuration"
     ]
    },
    {
     "cell_type": "code",
     "collapsed": false,
     "input": [
      "import matplotlib.pyplot as plt\n",
      "import matplotlib.cm as cm\n",
      "%matplotlib inline\n",
      "\n",
      "import matplotlib\n",
      "# from IPython.display import set_matplotlib_formats\n",
      "# set_matplotlib_formats('png')\n",
      "# matplotlib.rcParams['savefig.dpi'] = 150 # Change this to adjust figure size\n",
      "\n",
      "# # Plotting options\n",
      "# font = {\n",
      "#     'family': 'Bitstream Vera Sans',\n",
      "#     'weight': 'normal',\n",
      "#     'size': 8,\n",
      "# }\n",
      "\n",
      "# matplotlib.rc('font', **font)"
     ],
     "language": "python",
     "metadata": {},
     "outputs": [],
     "prompt_number": 2
    },
    {
     "cell_type": "code",
     "collapsed": false,
     "input": [
      "# # Per: http://nbviewer.ipython.org/url/jakevdp.github.io/downloads/notebooks/AnimationEmbedding.ipynb\n",
      "\n",
      "# from tempfile import NamedTemporaryFile\n",
      "# from matplotlib import animation\n",
      "\n",
      "# VIDEO_TAG = \"\"\"<video controls>\n",
      "#  <source src=\"data:video/x-m4v;base64,{0}\" type=\"video/mp4\">\n",
      "#  Your browser does not support the video tag.\n",
      "# </video>\"\"\"\n",
      "\n",
      "# def anim_to_html(anim):\n",
      "#     if not hasattr(anim, '_encoded_video'):\n",
      "#         with NamedTemporaryFile(suffix='.mp4') as f:\n",
      "#             anim.save(f.name, fps=20, extra_args=['-vcodec', 'libx264'])\n",
      "#             video = open(f.name, \"rb\").read()\n",
      "#         anim._encoded_video = video.encode(\"base64\")\n",
      "    \n",
      "#     return VIDEO_TAG.format(anim._encoded_video)\n",
      "\n",
      "# from IPython.display import HTML\n",
      "\n",
      "# def display_animation(anim):\n",
      "#     plt.close(anim._fig)\n",
      "#     return HTML(anim_to_html(anim))\n",
      "\n",
      "# animation.Animation._repr_html_ = anim_to_html"
     ],
     "language": "python",
     "metadata": {},
     "outputs": [],
     "prompt_number": 3
    },
    {
     "cell_type": "heading",
     "level": 2,
     "metadata": {},
     "source": [
      "System / modelling configuration"
     ]
    },
    {
     "cell_type": "code",
     "collapsed": false,
     "input": [
      "cellSize    = 1             # m\n",
      "freqs       = [2e2]         # Hz\n",
      "density     = 2700          # units of density\n",
      "Q           = np.inf        # can be inf\n",
      "nx          = 164           # count\n",
      "nz          = 264           # count\n",
      "freeSurf    = [False, False, False, False] # t r b l\n",
      "dims        = (nx,nz)       # tuple\n",
      "nPML        = 32\n",
      "rho         = np.fliplr(np.ones(dims) * density)\n",
      "nfreq       = len(freqs)    # number of frequencies\n",
      "nky         = 4             # number of y-directional plane-wave components\n",
      "nsp         = nfreq * nky   # total number of 2D subproblems\n",
      "\n",
      "velocity    = 2500          # m/s\n",
      "vanom       = 500           # m/s\n",
      "cPert       = np.zeros(dims)\n",
      "cPert[(nx/2)-20:(nx/2)+20,(nz/2)-20:(nz/2)+20] = vanom\n",
      "c           = np.fliplr(np.ones(dims) * velocity)\n",
      "cFlat       = c\n",
      "c          += np.fliplr(cPert)\n",
      "cTrue       = c\n",
      "\n",
      "srcs        = np.array([np.ones(101)*32, np.zeros(101), np.linspace(32, 232, 101)]).T\n",
      "recs        = np.array([np.ones(101)*132, np.zeros(101), np.linspace(32, 232, 101)]).T\n",
      "nsrc        = len(srcs)\n",
      "nrec        = len(recs)\n",
      "recmode     = 'fixed'\n",
      "\n",
      "geom        = {\n",
      "    'src':  srcs,\n",
      "    'rec':  recs,\n",
      "    'mode': 'fixed',\n",
      "}\n",
      "\n",
      "cache       = False\n",
      "cacheDir    = '.'\n",
      "\n",
      "# Base configuration for all subproblems\n",
      "systemConfig = {\n",
      "    'dx':   cellSize,       # m\n",
      "    'dz':   cellSize,       # m\n",
      "    'c':        c.T,        # m/s\n",
      "    'rho':      rho.T,      # density\n",
      "    'Q':        Q,          # can be inf\n",
      "    'nx':       nx,         # count\n",
      "    'nz':       nz,         # count\n",
      "    'freeSurf': freeSurf,   # t r b l\n",
      "    'nPML':     nPML,\n",
      "    'geom':     geom,\n",
      "    'cache':    cache,\n",
      "    'cacheDir': cacheDir,\n",
      "    'freqs':    freqs,\n",
      "    'nky':      nky,\n",
      "}"
     ],
     "language": "python",
     "metadata": {},
     "outputs": [],
     "prompt_number": 4
    },
    {
     "cell_type": "code",
     "collapsed": false,
     "input": [
      "sp = SeisFDFDProblem(systemConfig)"
     ],
     "language": "python",
     "metadata": {},
     "outputs": [],
     "prompt_number": 5
    },
    {
     "cell_type": "code",
     "collapsed": false,
     "input": [
      "jobs = sp.forwardAccumulate()"
     ],
     "language": "python",
     "metadata": {},
     "outputs": [],
     "prompt_number": 6
    },
    {
     "cell_type": "code",
     "collapsed": false,
     "input": [
      "# systemJobs = jobs['systemJobs']\n",
      "# keys = systemJobs.keys()\n",
      "# keys.sort()\n",
      "# status = np.zeros((len(keys),nsrc))\n",
      "# for i, key in enumerate(keys):\n",
      "#     status[i,:] = np.array([systemJobs[key][j].ready() for j in xrange(nsrc)])\n",
      "#     for j in np.argwhere(status[i,:]):\n",
      "#         status[i,j] += not systemJobs[key][j].successful()\n",
      "\n",
      "# fig = plt.figure()\n",
      "# plt.imshow(status, vmin=0, vmax=2)"
     ],
     "language": "python",
     "metadata": {},
     "outputs": [],
     "prompt_number": 7
    },
    {
     "cell_type": "code",
     "collapsed": true,
     "input": [
      "def trackprogress(sp, jobs, interval=1.0):\n",
      "\n",
      "    systemJobs = jobs['systemJobs']\n",
      "    jobkeys = systemJobs.keys()\n",
      "    jobkeys.sort()\n",
      "\n",
      "    fig = plt.figure()\n",
      "    ax1 = fig.add_subplot(1,2,2)#, xlim=(-0.5,nrec-0.5), ylim=(nrec-0.5,-0.5))\n",
      "    ax1 = plt.axes()\n",
      "    im1 = ax1.imshow(np.zeros((nsrc, nrec)), vmin=-50*nky, vmax=50*nky, cmap=cm.bwr)\n",
      "    plt.xlabel('Receiver')\n",
      "    plt.ylabel('Source')\n",
      "    \n",
      "    ax2 = fig.add_subplot(1,2,1)#, xlim=(-0.5,nsp-0.5), ylim=(nsrc-0.5,-0.5))\n",
      "    im2 = ax2.imshow(np.zeros((nsrc, nsp)), vmin=0, vmax=2, interpolation='nearest')\n",
      "    plt.xlabel('Node')\n",
      "\n",
      "    plt.show()\n",
      "\n",
      "    def update():\n",
      "        try:\n",
      "            res = reduce(np.add, sp.par['dview']['resultTracker'])\n",
      "        except:\n",
      "            res = {}\n",
      "\n",
      "        keys = [(freqs[0], i) for i in range(nrec)]\n",
      "        resarr = np.array([res[key] if key in res.keys() else np.zeros(nrec) for key in keys])\n",
      "        \n",
      "        status = np.zeros((len(jobkeys),nsrc))\n",
      "        for i, key in enumerate(jobkeys):\n",
      "            status[i,:] = np.array([systemJobs[key][j].ready() for j in xrange(nsrc)])\n",
      "            for j in np.argwhere(status[i,:]):\n",
      "                status[i,j] += not systemJobs[key][j].successful()\n",
      "    \n",
      "        im1.set_data(resarr.real)\n",
      "        im2.set_data(status.T)\n",
      "        \n",
      "        fig.canvas.draw()\n",
      "        fig.canvas.flush_events()\n",
      "        \n",
      "    while True:\n",
      "        try:\n",
      "            plt.pause(interval)\n",
      "            update()\n",
      "        except KeyboardInterrupt:\n",
      "            print('Exiting loop...')\n",
      "            break\n",
      "        finally:\n",
      "            if not reduce(np.add, sp.par['dview']['resultTracker.interactcounter']) < (nsp * nsrc):\n",
      "                break"
     ],
     "language": "python",
     "metadata": {},
     "outputs": [],
     "prompt_number": 8
    },
    {
     "cell_type": "code",
     "collapsed": false,
     "input": [
      "trackprogress(sp, jobs)"
     ],
     "language": "python",
     "metadata": {},
     "outputs": [
      {
       "metadata": {},
       "output_type": "display_data",
       "png": "[encoded data removed]",
       "text": [
        "<matplotlib.figure.Figure at 0x10c9ceb50>"
       ]
      },
      {
       "ename": "NotImplementedError",
       "evalue": "",
       "output_type": "pyerr",
       "traceback": [
        "\u001b[0;31m---------------------------------------------------------------------------\u001b[0m\n\u001b[0;31mNotImplementedError\u001b[0m                       Traceback (most recent call last)",
        "\u001b[0;32m<ipython-input-10-3bdeec7493a5>\u001b[0m in \u001b[0;36m<module>\u001b[0;34m()\u001b[0m\n\u001b[0;32m----> 1\u001b[0;31m \u001b[0mtrackprogress\u001b[0m\u001b[0;34m(\u001b[0m\u001b[0msp\u001b[0m\u001b[0;34m,\u001b[0m \u001b[0mjobs\u001b[0m\u001b[0;34m)\u001b[0m\u001b[0;34m\u001b[0m\u001b[0m\n\u001b[0m",
        "\u001b[0;32m<ipython-input-8-2e6b79a3235f>\u001b[0m in \u001b[0;36mtrackprogress\u001b[0;34m(sp, jobs, interval)\u001b[0m\n\u001b[1;32m     42\u001b[0m         \u001b[0;32mtry\u001b[0m\u001b[0;34m:\u001b[0m\u001b[0;34m\u001b[0m\u001b[0m\n\u001b[1;32m     43\u001b[0m             \u001b[0mplt\u001b[0m\u001b[0;34m.\u001b[0m\u001b[0mpause\u001b[0m\u001b[0;34m(\u001b[0m\u001b[0minterval\u001b[0m\u001b[0;34m)\u001b[0m\u001b[0;34m\u001b[0m\u001b[0m\n\u001b[0;32m---> 44\u001b[0;31m             \u001b[0mupdate\u001b[0m\u001b[0;34m(\u001b[0m\u001b[0;34m)\u001b[0m\u001b[0;34m\u001b[0m\u001b[0m\n\u001b[0m\u001b[1;32m     45\u001b[0m         \u001b[0;32mexcept\u001b[0m \u001b[0mKeyboardInterrupt\u001b[0m\u001b[0;34m:\u001b[0m\u001b[0;34m\u001b[0m\u001b[0m\n\u001b[1;32m     46\u001b[0m             \u001b[0;32mprint\u001b[0m\u001b[0;34m(\u001b[0m\u001b[0;34m'Exiting loop...'\u001b[0m\u001b[0;34m)\u001b[0m\u001b[0;34m\u001b[0m\u001b[0m\n",
        "\u001b[0;32m<ipython-input-8-2e6b79a3235f>\u001b[0m in \u001b[0;36mupdate\u001b[0;34m()\u001b[0m\n\u001b[1;32m     37\u001b[0m \u001b[0;34m\u001b[0m\u001b[0m\n\u001b[1;32m     38\u001b[0m         \u001b[0mfig\u001b[0m\u001b[0;34m.\u001b[0m\u001b[0mcanvas\u001b[0m\u001b[0;34m.\u001b[0m\u001b[0mdraw\u001b[0m\u001b[0;34m(\u001b[0m\u001b[0;34m)\u001b[0m\u001b[0;34m\u001b[0m\u001b[0m\n\u001b[0;32m---> 39\u001b[0;31m         \u001b[0mfig\u001b[0m\u001b[0;34m.\u001b[0m\u001b[0mcanvas\u001b[0m\u001b[0;34m.\u001b[0m\u001b[0mflush_events\u001b[0m\u001b[0;34m(\u001b[0m\u001b[0;34m)\u001b[0m\u001b[0;34m\u001b[0m\u001b[0m\n\u001b[0m\u001b[1;32m     40\u001b[0m \u001b[0;34m\u001b[0m\u001b[0m\n\u001b[1;32m     41\u001b[0m     \u001b[0;32mwhile\u001b[0m \u001b[0mTrue\u001b[0m\u001b[0;34m:\u001b[0m\u001b[0;34m\u001b[0m\u001b[0m\n",
        "\u001b[0;32m/Users/brendan/anaconda/lib/python2.7/site-packages/matplotlib/backend_bases.pyc\u001b[0m in \u001b[0;36mflush_events\u001b[0;34m(self)\u001b[0m\n\u001b[1;32m   2331\u001b[0m         \u001b[0mbackends\u001b[0m \u001b[0;32mwith\u001b[0m \u001b[0mGUIs\u001b[0m\u001b[0;34m.\u001b[0m\u001b[0;34m\u001b[0m\u001b[0m\n\u001b[1;32m   2332\u001b[0m         \"\"\"\n\u001b[0;32m-> 2333\u001b[0;31m         \u001b[0;32mraise\u001b[0m \u001b[0mNotImplementedError\u001b[0m\u001b[0;34m\u001b[0m\u001b[0m\n\u001b[0m\u001b[1;32m   2334\u001b[0m \u001b[0;34m\u001b[0m\u001b[0m\n\u001b[1;32m   2335\u001b[0m     \u001b[0;32mdef\u001b[0m \u001b[0mstart_event_loop\u001b[0m\u001b[0;34m(\u001b[0m\u001b[0mself\u001b[0m\u001b[0;34m,\u001b[0m \u001b[0mtimeout\u001b[0m\u001b[0;34m)\u001b[0m\u001b[0;34m:\u001b[0m\u001b[0;34m\u001b[0m\u001b[0m\n",
        "\u001b[0;31mNotImplementedError\u001b[0m: "
       ]
      }
     ],
     "prompt_number": 10
    },
    {
     "cell_type": "code",
     "collapsed": false,
     "input": [],
     "language": "python",
     "metadata": {},
     "outputs": []
    },
    {
     "cell_type": "code",
     "collapsed": false,
     "input": [
      "# import time\n",
      "\n",
      "# realinterval = 0.5\n",
      "\n",
      "# fig = plt.figure()\n",
      "# ax = plt.axes(xlim=(-0.5,nrec-0.5), ylim=(nrec-0.5,-0.5))\n",
      "# im = ax.imshow(np.zeros((nsrc, nrec)))\n",
      "\n",
      "# def init():\n",
      "#     im.set_data(np.zeros((nsrc, nrec)))\n",
      "#     return im\n",
      "\n",
      "# def animate(i):\n",
      "#     time.sleep(realinterval)\n",
      "#     try:\n",
      "#         res = reduce(np.add, sp.par['dview']['resultTracker'])\n",
      "#     except:\n",
      "#         res = {}\n",
      "\n",
      "#     keys = [(200.0, i) for i in range(101)]\n",
      "#     resarr = np.array([res[key] if key in keys else np.zeros(101) for key in keys])\n",
      "#     im.set_data(resarr.real)\n",
      "#     im.autoscale()\n",
      "#     return im\n",
      "\n",
      "# anim = animation.FuncAnimation(fig, animate, init_func=init,\n",
      "#                                frames=120, interval=20, blit=True)"
     ],
     "language": "python",
     "metadata": {},
     "outputs": []
    }
   ],
   "metadata": {}
  }
 ]
}