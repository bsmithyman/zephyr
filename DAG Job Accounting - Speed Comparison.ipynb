{
 "metadata": {
  "name": "",
  "signature": "sha256:235c7ba639f997642f2003a7d4d2a6512f5fe9e1441f16f8441fb5d66530c78c"
 },
 "nbformat": 3,
 "nbformat_minor": 0,
 "worksheets": [
  {
   "cells": [
    {
     "cell_type": "heading",
     "level": 1,
     "metadata": {},
     "source": [
      "DAG Job Accounting Time Comparison"
     ]
    },
    {
     "cell_type": "markdown",
     "metadata": {},
     "source": [
      "Brendan Smithyman | January 2015"
     ]
    },
    {
     "cell_type": "code",
     "collapsed": false,
     "input": [
      "import numpy as np\n",
      "import networkx\n",
      "from zephyr.Problem import SeisFDFDProblem\n",
      "import time"
     ],
     "language": "python",
     "metadata": {},
     "outputs": [],
     "prompt_number": 1
    },
    {
     "cell_type": "heading",
     "level": 2,
     "metadata": {},
     "source": [
      "Plotting configuration"
     ]
    },
    {
     "cell_type": "code",
     "collapsed": false,
     "input": [
      "import matplotlib.pyplot as plt\n",
      "import matplotlib.cm as cm\n",
      "import matplotlib\n",
      "%matplotlib inline"
     ],
     "language": "python",
     "metadata": {},
     "outputs": [],
     "prompt_number": 2
    },
    {
     "cell_type": "heading",
     "level": 2,
     "metadata": {},
     "source": [
      "System / modelling configuration"
     ]
    },
    {
     "cell_type": "code",
     "collapsed": false,
     "input": [
      "cellSize    = 1             # m\n",
      "freqs       = [2e2]         # Hz\n",
      "density     = 2700          # units of density\n",
      "Q           = np.inf        # can be inf\n",
      "nx          = 164           # count\n",
      "nz          = 264           # count\n",
      "freeSurf    = [False, False, False, False] # t r b l\n",
      "dims        = (nx,nz)       # tuple\n",
      "nPML        = 32\n",
      "rho         = np.fliplr(np.ones(dims) * density)\n",
      "nfreq       = len(freqs)    # number of frequencies\n",
      "nky         = 48            # number of y-directional plane-wave components\n",
      "nsp         = nfreq * nky   # total number of 2D subproblems\n",
      "\n",
      "velocity    = 2500          # m/s\n",
      "vanom       = 500           # m/s\n",
      "cPert       = np.zeros(dims)\n",
      "cPert[(nx/2)-20:(nx/2)+20,(nz/2)-20:(nz/2)+20] = vanom\n",
      "c           = np.fliplr(np.ones(dims) * velocity)\n",
      "cFlat       = c\n",
      "c          += np.fliplr(cPert)\n",
      "cTrue       = c\n",
      "\n",
      "srcs        = np.array([np.ones(101)*32, np.zeros(101), np.linspace(32, 232, 101)]).T\n",
      "recs        = np.array([np.ones(101)*132, np.zeros(101), np.linspace(32, 232, 101)]).T\n",
      "nsrc        = len(srcs)\n",
      "nrec        = len(recs)\n",
      "recmode     = 'fixed'\n",
      "\n",
      "geom        = {\n",
      "    'src':  srcs,\n",
      "    'rec':  recs,\n",
      "    'mode': 'fixed',\n",
      "}\n",
      "\n",
      "cache       = False\n",
      "cacheDir    = '.'\n",
      "\n",
      "parFac = 1\n",
      "\n",
      "# Base configuration for all subproblems\n",
      "systemConfig = {\n",
      "    'dx':   cellSize,       # m\n",
      "    'dz':   cellSize,       # m\n",
      "    'c':        c.T,        # m/s\n",
      "    'rho':      rho.T,      # density\n",
      "    'Q':        Q,          # can be inf\n",
      "    'nx':       nx,         # count\n",
      "    'nz':       nz,         # count\n",
      "    'freeSurf': freeSurf,   # t r b l\n",
      "    'nPML':     nPML,\n",
      "    'geom':     geom,\n",
      "    'cache':    cache,\n",
      "    'cacheDir': cacheDir,\n",
      "    'freqs':    freqs,\n",
      "    'nky':      nky,\n",
      "    'parFac':   parFac,\n",
      "}"
     ],
     "language": "python",
     "metadata": {},
     "outputs": [],
     "prompt_number": 3
    },
    {
     "cell_type": "code",
     "collapsed": false,
     "input": [
      "sp = SeisFDFDProblem(systemConfig)"
     ],
     "language": "python",
     "metadata": {},
     "outputs": [],
     "prompt_number": 4
    },
    {
     "cell_type": "code",
     "collapsed": false,
     "input": [
      "tick = time.time()\n",
      "jobs, G = sp.forwardAccumulate()\n",
      "sp.par['lview'].wait([j for i in jobs['endJobs'].values() for j in i])\n",
      "tock = time.time()\n",
      "print('Time elapsed: %r'%(tock - tick))"
     ],
     "language": "python",
     "metadata": {},
     "outputs": [
      {
       "output_type": "stream",
       "stream": "stdout",
       "text": [
        "Time elapsed: 350.7763981819153\n"
       ]
      }
     ],
     "prompt_number": 5
    },
    {
     "cell_type": "code",
     "collapsed": false,
     "input": [
      "parFac = 2\n",
      "systemConfig.update({'parFac': parFac})"
     ],
     "language": "python",
     "metadata": {},
     "outputs": [],
     "prompt_number": 6
    },
    {
     "cell_type": "code",
     "collapsed": false,
     "input": [
      "tick = time.time()\n",
      "jobs, G = sp.forwardAccumulate()\n",
      "sp.par['lview'].wait([j for i in jobs['endJobs'].values() for j in i])\n",
      "tock = time.time()\n",
      "print('Time elapsed: %r'%(tock - tick))"
     ],
     "language": "python",
     "metadata": {},
     "outputs": [
      {
       "output_type": "stream",
       "stream": "stdout",
       "text": [
        "Time elapsed: 343.0300979614258\n"
       ]
      }
     ],
     "prompt_number": 7
    },
    {
     "cell_type": "code",
     "collapsed": false,
     "input": [
      "parFac = 3\n",
      "systemConfig.update({'parFac': parFac})"
     ],
     "language": "python",
     "metadata": {},
     "outputs": [],
     "prompt_number": 8
    },
    {
     "cell_type": "code",
     "collapsed": false,
     "input": [
      "tick = time.time()\n",
      "jobs, G = sp.forwardAccumulate()\n",
      "sp.par['lview'].wait([j for i in jobs['endJobs'].values() for j in i])\n",
      "tock = time.time()\n",
      "print('Time elapsed: %r'%(tock - tick))"
     ],
     "language": "python",
     "metadata": {},
     "outputs": [
      {
       "output_type": "stream",
       "stream": "stdout",
       "text": [
        "Time elapsed: 350.03370904922485\n"
       ]
      }
     ],
     "prompt_number": 9
    },
    {
     "cell_type": "code",
     "collapsed": false,
     "input": [],
     "language": "python",
     "metadata": {},
     "outputs": []
    }
   ],
   "metadata": {}
  }
 ]
}