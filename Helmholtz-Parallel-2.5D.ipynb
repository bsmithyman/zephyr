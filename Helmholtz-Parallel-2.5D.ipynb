{
 "metadata": {
  "name": "",
  "signature": "sha256:9b7e015ca76096a78f6edee231c8614707bad59a1f34ea500b7161694b302bb1"
 },
 "nbformat": 3,
 "nbformat_minor": 0,
 "worksheets": [
  {
   "cells": [
    {
     "cell_type": "heading",
     "level": 1,
     "metadata": {},
     "source": [
      "Basic 2.5D Helmholtz solver"
     ]
    },
    {
     "cell_type": "markdown",
     "metadata": {},
     "source": [
      "Brendan Smithyman | September\u2013October 2014"
     ]
    },
    {
     "cell_type": "heading",
     "level": 2,
     "metadata": {},
     "source": [
      "Imports and setup"
     ]
    },
    {
     "cell_type": "code",
     "collapsed": false,
     "input": [
      "import numpy as np\n",
      "import scipy.sparse as sp\n",
      "from SimPEG import Utils\n",
      "from zephyr import *\n",
      "import matplotlib.pyplot as plt\n",
      "import matplotlib.cm as cm\n",
      "%pylab inline"
     ],
     "language": "python",
     "metadata": {},
     "outputs": [
      {
       "output_type": "stream",
       "stream": "stdout",
       "text": [
        "Populating the interactive namespace from numpy and matplotlib\n"
       ]
      }
     ],
     "prompt_number": 1
    },
    {
     "cell_type": "code",
     "collapsed": false,
     "input": [
      "import matplotlib\n",
      "from IPython.display import set_matplotlib_formats\n",
      "set_matplotlib_formats('png')\n",
      "matplotlib.rcParams['savefig.dpi'] = 150 # Change this to adjust figure size\n",
      "\n",
      "# Plotting options\n",
      "font = {\n",
      "    'family': 'Bitstream Vera Sans',\n",
      "    'weight': 'normal',\n",
      "    'size': 12,\n",
      "}\n",
      "\n",
      "matplotlib.rc('font', **font)"
     ],
     "language": "python",
     "metadata": {},
     "outputs": [],
     "prompt_number": 2
    },
    {
     "cell_type": "code",
     "collapsed": false,
     "input": [
      "# Parallel cluster setup\n",
      "from IPython.parallel import Client\n",
      "rc = Client()\n",
      "dview = rc[:]"
     ],
     "language": "python",
     "metadata": {},
     "outputs": [],
     "prompt_number": 3
    },
    {
     "cell_type": "heading",
     "level": 2,
     "metadata": {},
     "source": [
      "Configuration"
     ]
    },
    {
     "cell_type": "code",
     "collapsed": false,
     "input": [
      "cellSize    = 1             # m\n",
      "freq        = 5e1           # Hz\n",
      "velocity    = 2500          # m/s\n",
      "density     = 2700          # units of density\n",
      "Q           = inf           # can be inf\n",
      "nx          = 256           # count\n",
      "nz          = 256           # count\n",
      "freeSurf    = [True, False, False, False] # t r b l\n",
      "dims        = (nx,nz)       # tuple\n",
      "sLoc        = [128,128]     # x, z\n",
      "nPML        = 32\n",
      "c           = fliplr(np.ones(dims) * velocity + np.linspace(0,4000,nz).reshape((1,nz)))\n",
      "rho         = fliplr(np.ones(dims) * density)\n",
      "nky         = 40\n",
      "kyrange     = np.linspace(0, freq / c.min(), nky)\n",
      "systemConfig = {\n",
      "    'dx':   cellSize,       # m\n",
      "    'dz':   cellSize,       # m\n",
      "    'freq':     freq,       # Hz\n",
      "    'c':        c.T,        # m/s\n",
      "    'rho':      rho.T,      # density\n",
      "    'Q':        Q,          # can be inf\n",
      "    'nx':       nx,         # count\n",
      "    'nz':       nz,         # count\n",
      "    'sLoc':     sLoc,      # x, z\n",
      "    'freeSurf': freeSurf,   # t r b l\n",
      "    'nPML':     nPML,\n",
      "}"
     ],
     "language": "python",
     "metadata": {},
     "outputs": [],
     "prompt_number": 4
    },
    {
     "cell_type": "code",
     "collapsed": false,
     "input": [
      "#@v.parallel(block=True)\n",
      "def modelfield (systemConfig, ky):\n",
      "    import numpy as np\n",
      "    import scipy.sparse as sp\n",
      "    import SimPEG\n",
      "    from SimPEG import Utils\n",
      "    from zephyr import initHelmholtzNinePoint\n",
      "    #Solver = SimPEG.SolverWrapI(sp.linalg.gmres)\n",
      "    Solver = SimPEG.SolverWrapD(sp.linalg.splu)\n",
      "    \n",
      "    sc = systemConfig.copy()\n",
      "    sc['ky'] = ky\n",
      "    mesh, A = initHelmholtzNinePoint(sc)\n",
      "    Ainv = Solver(A)\n",
      "    \n",
      "    # Single source\n",
      "    sLoc = sc['sLoc']\n",
      "    q = np.zeros(mesh.nN)\n",
      "    qI = Utils.closestPoints(mesh, sLoc, gridLoc='N')\n",
      "    q[qI] = 1\n",
      "    \n",
      "    u = Ainv * q\n",
      "    return u"
     ],
     "language": "python",
     "metadata": {},
     "outputs": [],
     "prompt_number": 5
    },
    {
     "cell_type": "code",
     "collapsed": false,
     "input": [
      "%%time\n",
      "mesh, A = initHelmholtzNinePoint(systemConfig)\n",
      "Solver = SimPEG.SolverWrapD(sp.linalg.splu)\n",
      "Ainv = Solver(A)\n",
      "q = np.zeros(mesh.nN)\n",
      "qI = Utils.closestPoints(mesh, sLoc, gridLoc='N')\n",
      "q[qI] = 1\n",
      "u0 = Ainv * q"
     ],
     "language": "python",
     "metadata": {},
     "outputs": [
      {
       "output_type": "stream",
       "stream": "stdout",
       "text": [
        "CPU times: user 5.99 s, sys: 287 ms, total: 6.27 s\n",
        "Wall time: 1.81 s\n"
       ]
      }
     ],
     "prompt_number": 6
    },
    {
     "cell_type": "code",
     "collapsed": false,
     "input": [
      "%%time\n",
      "fieldsSer = map(modelfield, [systemConfig.copy() for i in xrange(len(kyrange))], kyrange)\n",
      "uSer = np.array(fieldsSer).sum(axis=0)"
     ],
     "language": "python",
     "metadata": {},
     "outputs": [
      {
       "output_type": "stream",
       "stream": "stdout",
       "text": [
        "CPU times: user 4min 24s, sys: 14 s, total: 4min 38s\n",
        "Wall time: 1min 12s\n"
       ]
      }
     ],
     "prompt_number": 7
    },
    {
     "cell_type": "code",
     "collapsed": false,
     "input": [
      "%%time\n",
      "res = dview.map(modelfield, [systemConfig.copy() for i in xrange(len(kyrange))], kyrange)\n",
      "uPar = np.array(res.get()).sum(axis=0)"
     ],
     "language": "python",
     "metadata": {},
     "outputs": [
      {
       "output_type": "stream",
       "stream": "stdout",
       "text": [
        "CPU times: user 5.93 s, sys: 1.18 s, total: 7.11 s\n",
        "Wall time: 59.8 s\n"
       ]
      }
     ],
     "prompt_number": 8
    },
    {
     "cell_type": "code",
     "collapsed": false,
     "input": [
      "amax    = abs(uPar).max()\n",
      "\n",
      "fig = plt.figure()\n",
      "\n",
      "ax1 = plt.subplot(1,3,1, aspect=1)\n",
      "plt.set_cmap(cm.bwr)\n",
      "im1 = mesh.plotImage(u0, vType='N', ax=ax1)\n",
      "im1[0].set_clim(-amax, amax)\n",
      "plt.title('2D Wavefield')\n",
      "\n",
      "ax2 = plt.subplot(1,3,2, aspect=1)\n",
      "plt.set_cmap(cm.bwr)\n",
      "im2 = mesh.plotImage(uSer, vType='N', ax=ax2)\n",
      "im2[0].set_clim(-amax, amax)\n",
      "plt.title('Serial Wavefield')\n",
      "\n",
      "ax3 = plt.subplot(1,3,3, aspect=1)\n",
      "plt.set_cmap(cm.bwr)\n",
      "im3 = mesh.plotImage(uPar, vType='N', ax=ax3)\n",
      "im3[0].set_clim(-amax, amax)\n",
      "plt.title('Parallel Wavefield')\n",
      "\n",
      "fig.tight_layout()"
     ],
     "language": "python",
     "metadata": {},
     "outputs": [
      {
       "metadata": {},
       "output_type": "display_data",
       "png": "[encoded data removed]",
       "text": [
        "<matplotlib.figure.Figure at 0x10ce650d0>"
       ]
      }
     ],
     "prompt_number": 9
    },
    {
     "cell_type": "code",
     "collapsed": false,
     "input": [],
     "language": "python",
     "metadata": {},
     "outputs": [],
     "prompt_number": 9
    }
   ],
   "metadata": {}
  }
 ]
}